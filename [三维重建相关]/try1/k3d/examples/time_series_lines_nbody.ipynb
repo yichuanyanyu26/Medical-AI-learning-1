{
 "cells": [
  {
   "cell_type": "code",
   "execution_count": 1,
   "metadata": {},
   "outputs": [
    {
     "data": {
      "application/vnd.jupyter.widget-view+json": {
       "model_id": "",
       "version_major": 2,
       "version_minor": 0
      },
      "text/plain": [
       "Output()"
      ]
     },
     "metadata": {},
     "output_type": "display_data"
    }
   ],
   "source": [
    "import k3d\n",
    "import math\n",
    "import numpy as np\n",
    "\n",
    "bodies_count = 25\n",
    "bodies = np.random.random_sample((bodies_count, 7))\n",
    "bodies[:, 0:6] -= 0.5\n",
    "bodies[:, 3:6] *= 0.05\n",
    "bodies[:,6] = (bodies[:,6] + 0.5) * 1000\n",
    "bodies[0,:] = np.array([0,0,0,0,0,0,1e6])\n",
    "\n",
    "for i in range(1, bodies_count):\n",
    "    bodies[i, 0:3] = (bodies[i, 0:3] / np.linalg.norm(bodies[i, 0:3])) * 0.5\n",
    "\n",
    "plot = k3d.plot(antialias=True)\n",
    "points = k3d.points(bodies[:, 0:3].astype(np.float32), color=0, point_size=0.05)\n",
    "plot += points\n",
    "plot.display()"
   ]
  },
  {
   "cell_type": "code",
   "execution_count": 2,
   "metadata": {},
   "outputs": [],
   "source": [
    "plot.camera_auto_fit = False\n",
    "plot.grid_auto_fit = False\n",
    "\n",
    "G = 6.67E-11\n",
    "lines = []\n",
    "speeds = []\n",
    "positions_animated = {}\n",
    "\n",
    "for i in range(bodies_count):\n",
    "    lines.append([])\n",
    "    speeds.append([])\n",
    "    \n",
    "for t in range(500):    \n",
    "    for i in range(bodies_count):\n",
    "        sum_force = np.zeros(3)\n",
    "        \n",
    "        for j in range(bodies_count):\n",
    "            if i == j:\n",
    "                continue\n",
    "            \n",
    "            direction = bodies[j, 0:3] - bodies[i, 0:3]            \n",
    "            force = G * bodies[i, 6] * bodies[j, 6] * direction\n",
    "            force = force / (np.linalg.norm(direction) ** 3)\n",
    "            sum_force = sum_force + force\n",
    "\n",
    "        bodies[i, 3:6] = bodies[i, 3:6] + sum_force / bodies[i, 6]\n",
    "    \n",
    "    for i in range(bodies_count):\n",
    "        bodies[i, 0:3] = bodies[i, 0:3] + bodies[i, 3:6] * 0.2\n",
    "        lines[i].append(np.copy(bodies[i, 0:3]))\n",
    "        speeds[i].append(np.linalg.norm(bodies[i, 3:6]))\n",
    "    \n",
    "    points.positions = np.copy(bodies[:, 0:3]).astype(np.float32)\n",
    "    positions_animated[str(t / 25.0)] = points.positions.copy()\n",
    "\n",
    "for line, speed in zip(lines, speeds):\n",
    "    plot += k3d.line(line, attribute=speed, shader=\"mesh\", width=0.0025, \n",
    "                     color_range=[0,0.1], color_map=k3d.basic_color_maps.Jet)    "
   ]
  },
  {
   "cell_type": "markdown",
   "metadata": {},
   "source": [
    "# Time series"
   ]
  },
  {
   "cell_type": "code",
   "execution_count": 3,
   "metadata": {},
   "outputs": [],
   "source": [
    "points.positions = positions_animated"
   ]
  },
  {
   "cell_type": "code",
   "execution_count": 4,
   "metadata": {},
   "outputs": [],
   "source": [
    "data = plot.get_binary_snapshot()\n",
    "\n",
    "with open('binary_snapshot.k3d', 'wb') as f:\n",
    "    f.write(data)"
   ]
  },
  {
   "cell_type": "code",
   "execution_count": null,
   "metadata": {},
   "outputs": [],
   "source": [
    "plot.time = 2"
   ]
  },
  {
   "cell_type": "markdown",
   "metadata": {},
   "source": [
    "![Hello World](data:image/png;base64,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)"
   ]
  },
  {
   "cell_type": "markdown",
   "metadata": {},
   "source": [
    "or"
   ]
  },
  {
   "cell_type": "code",
   "execution_count": null,
   "metadata": {},
   "outputs": [],
   "source": [
    "plot.start_auto_play()"
   ]
  },
  {
   "cell_type": "code",
   "execution_count": null,
   "metadata": {},
   "outputs": [],
   "source": [
    "plot.stop_auto_play()"
   ]
  },
  {
   "cell_type": "code",
   "execution_count": null,
   "metadata": {},
   "outputs": [],
   "source": []
  }
 ],
 "metadata": {
  "kernelspec": {
   "display_name": "Python 3 (ipykernel)",
   "language": "python",
   "name": "python3"
  },
  "language_info": {
   "codemirror_mode": {
    "name": "ipython",
    "version": 3
   },
   "file_extension": ".py",
   "mimetype": "text/x-python",
   "name": "python",
   "nbconvert_exporter": "python",
   "pygments_lexer": "ipython3",
   "version": "3.8.12"
  }
 },
 "nbformat": 4,
 "nbformat_minor": 2
}
