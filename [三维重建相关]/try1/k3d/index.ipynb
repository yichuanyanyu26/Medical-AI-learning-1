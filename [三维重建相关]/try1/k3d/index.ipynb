{
 "cells": [
  {
   "cell_type": "markdown",
   "metadata": {},
   "source": [
    "# K3D Examples\n",
    "Try one of the examples below!"
   ]
  },
  {
   "cell_type": "code",
   "execution_count": 1,
   "metadata": {},
   "outputs": [
    {
     "data": {
      "text/markdown": [
       "-  <a href='examples\\Camera_interactive_demo.ipynb' target='_blank'>Camera interactive demo</a>\n",
       "-  <a href='examples\\Menger_sponge_clipping_planes.ipynb' target='_blank'>Menger sponge clipping planes</a>\n",
       "-  <a href='examples\\Sine_Gordon.ipynb' target='_blank'>Sine Gordon</a>\n",
       "-  <a href='examples\\auto_rendering.ipynb' target='_blank'>auto rendering</a>\n",
       "-  <a href='examples\\axesHelper.ipynb' target='_blank'>axesHelper</a>\n",
       "-  <a href='examples\\custom_data.ipynb' target='_blank'>custom data</a>\n",
       "-  <a href='examples\\happy_new_year_2020.ipynb' target='_blank'>happy new year 2020</a>\n",
       "-  <a href='examples\\headless.ipynb' target='_blank'>headless</a>\n",
       "-  <a href='examples\\hydrogen_orbitals.ipynb' target='_blank'>hydrogen orbitals</a>\n",
       "-  <a href='examples\\ifs-per-point-opacity.ipynb' target='_blank'>ifs-per-point-opacity</a>\n",
       "-  <a href='examples\\iris_dataset.ipynb' target='_blank'>iris dataset</a>\n",
       "-  <a href='examples\\labels.ipynb' target='_blank'>labels</a>\n",
       "-  <a href='examples\\line.ipynb' target='_blank'>line</a>\n",
       "-  <a href='examples\\line_and_sparse_voxels.ipynb' target='_blank'>line and sparse voxels</a>\n",
       "-  <a href='examples\\lines.ipynb' target='_blank'>lines</a>\n",
       "-  <a href='examples\\lines_colors.ipynb' target='_blank'>lines colors</a>\n",
       "-  <a href='examples\\marching_cubes_non_uniformly_spaced.ipynb' target='_blank'>marching cubes non uniformly spaced</a>\n",
       "-  <a href='examples\\mesh.ipynb' target='_blank'>mesh</a>\n",
       "-  <a href='examples\\mesh_callback.ipynb' target='_blank'>mesh callback</a>\n",
       "-  <a href='examples\\mesh_custom.ipynb' target='_blank'>mesh custom</a>\n",
       "-  <a href='examples\\mesh_triangles_attribute.ipynb' target='_blank'>mesh triangles attribute</a>\n",
       "-  <a href='examples\\mesh_triangles_attribute_vtk.ipynb' target='_blank'>mesh triangles attribute vtk</a>\n",
       "-  <a href='examples\\mesh_volume_texture.ipynb' target='_blank'>mesh volume texture</a>\n",
       "-  <a href='examples\\model_matrix_timeseries.ipynb' target='_blank'>model matrix timeseries</a>\n",
       "-  <a href='examples\\objects_groups.ipynb' target='_blank'>objects groups</a>\n",
       "-  <a href='examples\\platonic.ipynb' target='_blank'>platonic</a>\n",
       "-  <a href='examples\\point_cloud_scaner.ipynb' target='_blank'>point cloud scaner</a>\n",
       "-  <a href='examples\\points.ipynb' target='_blank'>points</a>\n",
       "-  <a href='examples\\screenshot_generator.ipynb' target='_blank'>screenshot generator</a>\n",
       "-  <a href='examples\\sierpinski3d.ipynb' target='_blank'>sierpinski3d</a>\n",
       "-  <a href='examples\\snapshots.ipynb' target='_blank'>snapshots</a>\n",
       "-  <a href='examples\\snapshots_in_js.ipynb' target='_blank'>snapshots in js</a>\n",
       "-  <a href='examples\\stl.ipynb' target='_blank'>stl</a>\n",
       "-  <a href='examples\\surface.ipynb' target='_blank'>surface</a>\n",
       "-  <a href='examples\\text.ipynb' target='_blank'>text</a>\n",
       "-  <a href='examples\\text2d.ipynb' target='_blank'>text2d</a>\n",
       "-  <a href='examples\\texture.ipynb' target='_blank'>texture</a>\n",
       "-  <a href='examples\\texture_text.ipynb' target='_blank'>texture text</a>\n",
       "-  <a href='examples\\time_series.ipynb' target='_blank'>time series</a>\n",
       "-  <a href='examples\\time_series_lines_nbody.ipynb' target='_blank'>time series lines nbody</a>\n",
       "-  <a href='examples\\transfer_function.ipynb' target='_blank'>transfer function</a>\n",
       "-  <a href='examples\\update_two_related_attributes.ipynb' target='_blank'>update two related attributes</a>\n",
       "-  <a href='examples\\vector.ipynb' target='_blank'>vector</a>\n",
       "-  <a href='examples\\vector_animation_k3d.ipynb' target='_blank'>vector animation k3d</a>\n",
       "-  <a href='examples\\vector_field_2d.ipynb' target='_blank'>vector field 2d</a>\n",
       "-  <a href='examples\\vector_field_3d.ipynb' target='_blank'>vector field 3d</a>\n",
       "-  <a href='examples\\volume_renderer.ipynb' target='_blank'>volume renderer</a>\n",
       "-  <a href='examples\\voxel_callback.ipynb' target='_blank'>voxel callback</a>\n",
       "-  <a href='examples\\voxel_edit.ipynb' target='_blank'>voxel edit</a>\n",
       "-  <a href='examples\\voxels.ipynb' target='_blank'>voxels</a>\n",
       "-  <a href='examples\\voxels_group.ipynb' target='_blank'>voxels group</a>\n",
       "-  <a href='examples\\vr_marchingcubes.ipynb' target='_blank'>vr marchingcubes</a>\n",
       "-  <a href='examples\\vtk.ipynb' target='_blank'>vtk</a>\n",
       "-  <a href='examples\\vtk2.ipynb' target='_blank'>vtk2</a>\n",
       "-  <a href='examples\\z-fighting.ipynb' target='_blank'>z-fighting</a>"
      ],
      "text/plain": [
       "<IPython.core.display.Markdown object>"
      ]
     },
     "execution_count": 1,
     "metadata": {},
     "output_type": "execute_result"
    }
   ],
   "source": [
    "# just generating the list here, nothing to see...\n",
    "from IPython.display import Markdown\n",
    "from glob import glob\n",
    "\n",
    "Markdown(\"\\n\".join([\n",
    "    \"-  <a href='{1}' target='_blank'>{0}</a>\".format(x[9:-6].replace(\"_\", \" \"), x)\n",
    "    for x in sorted(glob(\"examples/*.ipynb\"))\n",
    "]))"
   ]
  },
  {
   "cell_type": "code",
   "execution_count": 2,
   "metadata": {},
   "outputs": [
    {
     "data": {
      "text/markdown": [
       "### Examples presented during Sage Days 74\n",
       "-  <a href='examples/SageDays74/Lorenz_system.ipynb' target='_blank'>SageDays74/Lorenz system</a>\n",
       "-  <a href='examples/SageDays74/Molecular_Dynamics_visualization-demo.ipynb' target='_blank'>SageDays74/Molecular Dynamics visualization-demo</a>\n",
       "-  <a href='examples/SageDays74/implicit_plot3d_interactive.ipynb' target='_blank'>SageDays74/implicit plot3d interactive</a>\n",
       "-  <a href='examples/SageDays74/line_animation_demo.ipynb' target='_blank'>SageDays74/line animation demo</a>\n",
       "-  <a href='examples/SageDays74/marching_cubes_level_interact.ipynb' target='_blank'>SageDays74/marching cubes level interact</a>\n",
       "-  <a href='examples/SageDays74/surface_interact.ipynb' target='_blank'>SageDays74/surface interact</a>"
      ],
      "text/plain": [
       "<IPython.core.display.Markdown object>"
      ]
     },
     "execution_count": 2,
     "metadata": {},
     "output_type": "execute_result"
    }
   ],
   "source": [
    "Markdown(\"### Examples presented during Sage Days 74\\n\"+\"\\n\".join([\n",
    "    \"-  <a href='{1}' target='_blank'>{0}</a>\".format(x[9:-6].replace(\"_\", \" \"), x)\n",
    "    for x in sorted(glob(\"examples/SageDays74/*.ipynb\"))\n",
    "]))"
   ]
  },
  {
   "cell_type": "code",
   "execution_count": null,
   "metadata": {},
   "outputs": [],
   "source": []
  }
 ],
 "metadata": {
  "kernelspec": {
   "display_name": "Python 3 (ipykernel)",
   "language": "python",
   "name": "python3"
  },
  "language_info": {
   "codemirror_mode": {
    "name": "ipython",
    "version": 3
   },
   "file_extension": ".py",
   "mimetype": "text/x-python",
   "name": "python",
   "nbconvert_exporter": "python",
   "pygments_lexer": "ipython3",
   "version": "3.8.16"
  }
 },
 "nbformat": 4,
 "nbformat_minor": 1
}
