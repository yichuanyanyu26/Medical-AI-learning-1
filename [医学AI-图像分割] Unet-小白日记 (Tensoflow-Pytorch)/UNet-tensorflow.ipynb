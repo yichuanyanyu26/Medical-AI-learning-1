{
 "cells": [
  {
   "cell_type": "markdown",
   "id": "762f4745",
   "metadata": {},
   "source": [
    "## Create our model \n",
    "\n",
    "Use:\n",
    "- Max-pooling & up-convolutions\n",
    "- 16 deep in first conv layer\n",
    "- 2 convolutions in each stage\n",
    "- 4 skip connections\n",
    "- padding to get same size outputs\n",
    "\n",
    "\n",
    "Set each layer to `x`, to make it easier to copy-paste and re-arrange things. "
   ]
  },
  {
   "cell_type": "code",
   "execution_count": null,
   "id": "4c997aa5",
   "metadata": {},
   "outputs": [],
   "source": [
    "img_shape = (160,160,1)\n",
    "input_layer = keras.layers.Input(img_shape)\n",
    "\n",
    "x = keras.layers.Conv2D(16,(3,3), padding='same',activation='relu')(input_layer)\n",
    "x = keras.layers.Conv2D(16,(3,3), padding='same',activation='relu')(x)\n",
    "out_layer1 = x\n",
    "x = keras.layers.MaxPooling2D((2,2))(x)\n",
    "\n",
    "x = keras.layers.Conv2D(32,(3,3), padding='same',activation='relu')(x)\n",
    "x = keras.layers.Conv2D(32,(3,3), padding='same',activation='relu')(x)\n",
    "out_layer2 = x\n",
    "x = keras.layers.MaxPooling2D((2,2))(x)\n",
    "\n",
    "x = keras.layers.Conv2D(64,(3,3), padding='same',activation='relu')(x)\n",
    "x = keras.layers.Conv2D(64,(3,3), padding='same',activation='relu')(x)\n",
    "out_layer3 = x\n",
    "x = keras.layers.MaxPooling2D((2,2))(x)\n",
    "\n",
    "\n",
    "x = keras.layers.Conv2D(128,(3,3), padding='same',activation='relu')(x)\n",
    "x = keras.layers.Conv2D(128,(3,3), padding='same',activation='relu')(x)\n",
    "out_layer4 = x\n",
    "x = keras.layers.MaxPooling2D((2,2))(x)\n",
    "\n",
    "x = keras.layers.Conv2D(256,(3,3), padding='same',activation='relu')(x)\n",
    "x = keras.layers.Conv2D(256,(3,3), padding='same',activation='relu')(x)\n",
    "\n",
    "x = keras.layers.UpSampling2D((2,2))(x)\n",
    "x = keras.layers.Conv2D(128,(2,2), padding='same',activation='relu')(x)\n",
    "\n",
    "x = keras.layers.Concatenate(axis=3)([out_layer4,x])\n",
    "x = keras.layers.Conv2D(128,(3,3), padding='same',activation='relu')(x)\n",
    "x = keras.layers.Conv2D(128,(3,3), padding='same',activation='relu')(x)\n",
    "\n",
    "\n",
    "x = keras.layers.UpSampling2D((2,2))(x)\n",
    "x = keras.layers.Conv2D(64,(2,2), padding='same',activation='relu')(x)\n",
    "\n",
    "x = keras.layers.Concatenate(axis=3)([out_layer3,x])\n",
    "x = keras.layers.Conv2D(64,(3,3), padding='same',activation='relu')(x)\n",
    "x = keras.layers.Conv2D(64,(3,3), padding='same',activation='relu')(x)\n",
    "\n",
    "\n",
    "x = keras.layers.UpSampling2D((2,2))(x)\n",
    "x = keras.layers.Conv2D(32,(2,2), padding='same',activation='relu')(x)\n",
    "\n",
    "\n",
    "x = keras.layers.Concatenate(axis=3)([out_layer2,x])   # axis specifies along which axis the input will be concatenated\n",
    "x = keras.layers.Conv2D(32,(3,3), padding='same',activation='relu')(x)\n",
    "x = keras.layers.Conv2D(32,(3,3), padding='same',activation='relu')(x)\n",
    "\n",
    "x = keras.layers.UpSampling2D((2,2))(x)\n",
    "x = keras.layers.Conv2D(16,(2,2), padding='same',activation='relu')(x)\n",
    "\n",
    "x = keras.layers.Concatenate(axis=3)([out_layer1,x])\n",
    "x = keras.layers.Conv2D(16,(3,3), padding='same',activation='relu')(x)\n",
    "x = keras.layers.Conv2D(16,(3,3), padding='same',activation='relu')(x)\n",
    "\n",
    "#1x1 conv with sigmoid to get binary classification at each pixel\n",
    "x = keras.layers.Conv2D(1,(1,1), padding='same',activation='sigmoid')(x)\n",
    "\n",
    "model = keras.Model(input_layer, x)"
   ]
  },
  {
   "cell_type": "markdown",
   "id": "9093a733",
   "metadata": {},
   "source": [
    "###  Compile and visualize it"
   ]
  },
  {
   "cell_type": "code",
   "execution_count": null,
   "id": "115b3706",
   "metadata": {},
   "outputs": [],
   "source": [
    "\n",
    "# Compile the model\n",
    "optimizer = keras.optimizers.Adam()\n",
    "\n",
    "loss = ['binary_crossentropy',dice_loss]\n",
    "loss = ['binary_crossentropy',dice_loss]\n",
    "\n",
    "metrics = ['binary_accuracy',dice_metric]\n",
    "\n",
    "model.compile(loss=loss,\n",
    "              optimizer=optimizer,\n",
    "              metrics=metrics) \n",
    "\n",
    "# What does the finished model look like?\n",
    "model.summary()\n",
    "keras.utils.plot_model(model, show_shapes=True, rankdir='TD')"
   ]
  }
 ],
 "metadata": {
  "kernelspec": {
   "display_name": "Python 3 (ipykernel)",
   "language": "python",
   "name": "python3"
  },
  "language_info": {
   "codemirror_mode": {
    "name": "ipython",
    "version": 3
   },
   "file_extension": ".py",
   "mimetype": "text/x-python",
   "name": "python",
   "nbconvert_exporter": "python",
   "pygments_lexer": "ipython3",
   "version": "3.9.5"
  }
 },
 "nbformat": 4,
 "nbformat_minor": 5
}
