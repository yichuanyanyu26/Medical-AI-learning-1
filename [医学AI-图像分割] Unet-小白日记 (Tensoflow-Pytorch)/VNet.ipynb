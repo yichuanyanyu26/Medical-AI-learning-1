{
 "cells": [
  {
   "cell_type": "code",
   "execution_count": null,
   "id": "34a64604",
   "metadata": {},
   "outputs": [],
   "source": [
    "import torch\n",
    "import torch.nn as nn\n",
    "import torch.nn.functional as F"
   ]
  },
  {
   "cell_type": "code",
   "execution_count": null,
   "id": "974bcf1f",
   "metadata": {},
   "outputs": [],
   "source": [
    "def passthrough(x, **kwargs):\n",
    "    return x\n",
    "\n",
    "def ELUCons(elu, nchan):\n",
    "    if elu:\n",
    "        return nn.ELU(inplace=True)\n",
    "    else:\n",
    "        return nn.PReLU(nchan)\n",
    "\n",
    "# normalization between sub-volumes is necessary for good performance\n",
    "class ContBatchNorm3d(nn.modules.batchnorm._BatchNorm):\n",
    "    def _check_input_dim(self, input):\n",
    "        if input.dim() != 5:\n",
    "            raise ValueError('expected 5D input (got {}D input)'\n",
    "                             .format(input.dim()))\n",
    "        super(ContBatchNorm3d, self)._check_input_dim(input)\n",
    "\n",
    "    def forward(self, input):\n",
    "        self._check_input_dim(input)\n",
    "        return F.batch_norm(\n",
    "            input, self.running_mean, self.running_var, self.weight, self.bias,\n",
    "            True, self.momentum, self.eps)\n",
    "\n",
    "\n",
    "class LUConv(nn.Module):\n",
    "    def __init__(self, nchan, elu):\n",
    "        super(LUConv, self).__init__()\n",
    "        self.relu1 = ELUCons(elu, nchan)\n",
    "        self.conv1 = nn.Conv3d(nchan, nchan, kernel_size=5, padding=2)\n",
    "        self.bn1 = ContBatchNorm3d(nchan)\n",
    "\n",
    "    def forward(self, x):\n",
    "        out = self.relu1(self.bn1(self.conv1(x)))\n",
    "        return out\n",
    "\n",
    "\n",
    "def _make_nConv(nchan, depth, elu):\n",
    "    layers = []\n",
    "    for _ in range(depth):\n",
    "        layers.append(LUConv(nchan, elu))\n",
    "    return nn.Sequential(*layers)"
   ]
  },
  {
   "cell_type": "code",
   "execution_count": null,
   "id": "0b7b4419",
   "metadata": {},
   "outputs": [],
   "source": [
    "class VNet(nn.Module):\n",
    "    # the number of convolutions in each layer corresponds to what is in the actual prototxt, not the intent\n",
    "    def __init__(self, elu=True, nll=False):\n",
    "        super(VNet, self).__init__()\n",
    "        self.in_tr = InputTransition(16, elu)\n",
    "        self.down_tr32 = DownTransition(16, 1, elu)\n",
    "        self.down_tr64 = DownTransition(32, 2, elu)\n",
    "        self.down_tr128 = DownTransition(64, 3, elu, dropout=True)\n",
    "        self.down_tr256 = DownTransition(128, 2, elu, dropout=True)\n",
    "        self.up_tr256 = UpTransition(256, 256, 2, elu, dropout=True)\n",
    "        self.up_tr128 = UpTransition(256, 128, 2, elu, dropout=True)\n",
    "        self.up_tr64 = UpTransition(128, 64, 1, elu)\n",
    "        self.up_tr32 = UpTransition(64, 32, 1, elu)\n",
    "        self.out_tr = OutputTransition(32, elu, nll)    \n",
    "    def forward(self, x):\n",
    "        out16 = self.in_tr(x)\n",
    "        out32 = self.down_tr32(out16)\n",
    "        out64 = self.down_tr64(out32)\n",
    "        out128 = self.down_tr128(out64)\n",
    "        out256 = self.down_tr256(out128)\n",
    "        out = self.up_tr256(out256, out128)\n",
    "        out = self.up_tr128(out, out64)\n",
    "        out = self.up_tr64(out, out32)\n",
    "        out = self.up_tr32(out, out16)\n",
    "        out = self.out_tr(out)\n",
    "        return out"
   ]
  },
  {
   "cell_type": "code",
   "execution_count": null,
   "id": "73c946cb",
   "metadata": {},
   "outputs": [],
   "source": [
    "VNet1=VNet()"
   ]
  },
  {
   "cell_type": "code",
   "execution_count": null,
   "id": "e69026f2",
   "metadata": {},
   "outputs": [],
   "source": [
    "print(VNet1)"
   ]
  },
  {
   "cell_type": "code",
   "execution_count": null,
   "id": "98612bd7",
   "metadata": {},
   "outputs": [],
   "source": [
    "VNet1"
   ]
  },
  {
   "cell_type": "code",
   "execution_count": null,
   "id": "f3ebf9fc",
   "metadata": {},
   "outputs": [],
   "source": []
  },
  {
   "cell_type": "code",
   "execution_count": null,
   "id": "6fd20c7d",
   "metadata": {},
   "outputs": [],
   "source": []
  },
  {
   "cell_type": "code",
   "execution_count": null,
   "id": "d95bfbe2",
   "metadata": {},
   "outputs": [],
   "source": []
  },
  {
   "cell_type": "code",
   "execution_count": null,
   "id": "6e0f37c3",
   "metadata": {},
   "outputs": [],
   "source": []
  },
  {
   "cell_type": "code",
   "execution_count": null,
   "id": "5b8312fe",
   "metadata": {},
   "outputs": [],
   "source": []
  }
 ],
 "metadata": {
  "kernelspec": {
   "display_name": "Python 3 (ipykernel)",
   "language": "python",
   "name": "python3"
  },
  "language_info": {
   "codemirror_mode": {
    "name": "ipython",
    "version": 3
   },
   "file_extension": ".py",
   "mimetype": "text/x-python",
   "name": "python",
   "nbconvert_exporter": "python",
   "pygments_lexer": "ipython3",
   "version": "3.9.5"
  }
 },
 "nbformat": 4,
 "nbformat_minor": 5
}
